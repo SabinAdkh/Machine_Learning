{
 "cells": [
  {
   "cell_type": "code",
   "execution_count": 1,
   "id": "0cb20078-d386-49cd-a140-4d119ac21011",
   "metadata": {},
   "outputs": [],
   "source": [
    "import pandas as pd\n",
    "import matplotlib.pyplot as plt\n",
    "import seaborn as sns\n",
    "from sklearn import datasets\n",
    "from sklearn.naive_bayes import GaussianNB\n",
    "from sklearn.model_selection import train_test_split"
   ]
  },
  {
   "cell_type": "code",
   "execution_count": 2,
   "id": "3355b619-89d6-44a0-b808-ce9f2ef887e5",
   "metadata": {},
   "outputs": [
    {
     "data": {
      "text/plain": [
       "array([[ 0.,  0.,  5., ...,  0.,  0.,  0.],\n",
       "       [ 0.,  0.,  0., ..., 10.,  0.,  0.],\n",
       "       [ 0.,  0.,  0., ..., 16.,  9.,  0.],\n",
       "       ...,\n",
       "       [ 0.,  0.,  1., ...,  6.,  0.,  0.],\n",
       "       [ 0.,  0.,  2., ..., 12.,  0.,  0.],\n",
       "       [ 0.,  0., 10., ..., 12.,  1.,  0.]])"
      ]
     },
     "execution_count": 2,
     "metadata": {},
     "output_type": "execute_result"
    }
   ],
   "source": [
    "digits  = datasets.load_digits()\n",
    "digits.data"
   ]
  },
  {
   "cell_type": "code",
   "execution_count": 3,
   "id": "cb2219a0-79e6-46a4-80fa-099bc5abe895",
   "metadata": {},
   "outputs": [
    {
     "data": {
      "text/plain": [
       "array([0, 1, 2, ..., 8, 9, 8])"
      ]
     },
     "execution_count": 3,
     "metadata": {},
     "output_type": "execute_result"
    }
   ],
   "source": [
    "digits.target"
   ]
  },
  {
   "cell_type": "code",
   "execution_count": 4,
   "id": "26a014a2-15ae-4541-809f-bf0193c5e2f7",
   "metadata": {},
   "outputs": [],
   "source": [
    "X = digits.data\n",
    "y = digits.target"
   ]
  },
  {
   "cell_type": "code",
   "execution_count": 5,
   "id": "5eb59784-4422-4f9d-b0db-71582e4eac03",
   "metadata": {},
   "outputs": [],
   "source": [
    "X_train, X_test, y_train, y_test = train_test_split(X, y, random_state=42)"
   ]
  },
  {
   "cell_type": "code",
   "execution_count": 6,
   "id": "fab1bb34-cf28-4215-bae9-610df97d2ec1",
   "metadata": {},
   "outputs": [],
   "source": [
    "nb_clf = GaussianNB().fit(X_train, y_train)\n",
    "nb_clf_preds = nb_clf.predict(X_test)"
   ]
  },
  {
   "cell_type": "code",
   "execution_count": 7,
   "id": "9a56985c-0143-4fdf-8fa2-c1ff6cd5c5d0",
   "metadata": {},
   "outputs": [
    {
     "name": "stdout",
     "output_type": "stream",
     "text": [
      "Training set accuracy : 0.857\n",
      "Test set accuracu     : 0.856\n"
     ]
    }
   ],
   "source": [
    "print(\"Training set accuracy : {:.3f}\".format(nb_clf.score(X_train, y_train)))\n",
    "print(\"Test set accuracu     : {:.3f}\".format(nb_clf.score(X_test, y_test)))"
   ]
  },
  {
   "cell_type": "code",
   "execution_count": 8,
   "id": "760fc753-1e63-4e17-8def-2635ab4b0091",
   "metadata": {},
   "outputs": [
    {
     "name": "stdout",
     "output_type": "stream",
     "text": [
      "Accuracu: 0.856\n"
     ]
    }
   ],
   "source": [
    "from sklearn.metrics import accuracy_score\n",
    "print(\"Accuracu: {:.3f}\".format(accuracy_score(y_test, nb_clf_preds)))"
   ]
  },
  {
   "cell_type": "code",
   "execution_count": 9,
   "id": "a27f003c-c706-4651-a9c5-6cd177930d1f",
   "metadata": {},
   "outputs": [],
   "source": [
    "from sklearn.preprocessing import StandardScaler\n",
    "\n",
    "X_train_scaled = StandardScaler().fit_transform(X_train)\n",
    "X_test_scaled = StandardScaler().fit_transform(X_test)"
   ]
  },
  {
   "cell_type": "code",
   "execution_count": 10,
   "id": "4ff436e8-1273-4b61-836d-9a7bdf8bbd8f",
   "metadata": {},
   "outputs": [],
   "source": [
    "nb_clf_scaled = GaussianNB().fit(X_train_scaled, y_train)"
   ]
  },
  {
   "cell_type": "code",
   "execution_count": 11,
   "id": "c44db540-2e86-4ee7-b6b0-9cc19ed787f0",
   "metadata": {},
   "outputs": [
    {
     "name": "stdout",
     "output_type": "stream",
     "text": [
      "Test set accuracy after scaling     :\n"
     ]
    }
   ],
   "source": [
    "# print(\"Training set accuracy after scaling : {:.4f}\"\n",
    "#      .format(nb_clf_scaled.score(X_train_scaled, y_train)))\n",
    "print(\"Test set accuracy after scaling     :\"\n",
    "      .format(nb_clf_scaled.score(X_test_scaled, y_test)))"
   ]
  },
  {
   "cell_type": "code",
   "execution_count": 12,
   "id": "7851fa47-14da-4ffb-84e2-045b9798b81f",
   "metadata": {},
   "outputs": [],
   "source": [
    "nb_clf_scaled_preds = nb_clf_scaled.predict(X_test_scaled)"
   ]
  },
  {
   "cell_type": "code",
   "execution_count": 13,
   "id": "9f399d61-3729-43fb-866f-30352fd9dfdf",
   "metadata": {},
   "outputs": [
    {
     "data": {
      "text/plain": [
       "0.09111111111111111"
      ]
     },
     "execution_count": 13,
     "metadata": {},
     "output_type": "execute_result"
    }
   ],
   "source": [
    "accuracy_score(y_test,nb_clf_scaled.predict(X_test_scaled))"
   ]
  },
  {
   "cell_type": "code",
   "execution_count": 14,
   "id": "e6bb4bf1-0f37-4169-b777-592f15af8923",
   "metadata": {},
   "outputs": [
    {
     "data": {
      "text/plain": [
       "0.09111111111111111"
      ]
     },
     "execution_count": 14,
     "metadata": {},
     "output_type": "execute_result"
    }
   ],
   "source": [
    "nb_clf_scaled.score(X_test_scaled, y_test)"
   ]
  },
  {
   "cell_type": "code",
   "execution_count": 15,
   "id": "82df1ace-7c6f-4822-beac-dda46ea27591",
   "metadata": {},
   "outputs": [
    {
     "data": {
      "text/html": [
       "<div>\n",
       "<style scoped>\n",
       "    .dataframe tbody tr th:only-of-type {\n",
       "        vertical-align: middle;\n",
       "    }\n",
       "\n",
       "    .dataframe tbody tr th {\n",
       "        vertical-align: top;\n",
       "    }\n",
       "\n",
       "    .dataframe thead th {\n",
       "        text-align: right;\n",
       "    }\n",
       "</style>\n",
       "<table border=\"1\" class=\"dataframe\">\n",
       "  <thead>\n",
       "    <tr style=\"text-align: right;\">\n",
       "      <th></th>\n",
       "      <th>Y_test</th>\n",
       "      <th>nb_clf_preds</th>\n",
       "      <th>nb_clf_scaled_preds</th>\n",
       "    </tr>\n",
       "  </thead>\n",
       "  <tbody>\n",
       "    <tr>\n",
       "      <th>0</th>\n",
       "      <td>6</td>\n",
       "      <td>6</td>\n",
       "      <td>1</td>\n",
       "    </tr>\n",
       "    <tr>\n",
       "      <th>1</th>\n",
       "      <td>9</td>\n",
       "      <td>9</td>\n",
       "      <td>1</td>\n",
       "    </tr>\n",
       "    <tr>\n",
       "      <th>2</th>\n",
       "      <td>3</td>\n",
       "      <td>3</td>\n",
       "      <td>1</td>\n",
       "    </tr>\n",
       "    <tr>\n",
       "      <th>3</th>\n",
       "      <td>7</td>\n",
       "      <td>7</td>\n",
       "      <td>3</td>\n",
       "    </tr>\n",
       "    <tr>\n",
       "      <th>4</th>\n",
       "      <td>2</td>\n",
       "      <td>2</td>\n",
       "      <td>1</td>\n",
       "    </tr>\n",
       "    <tr>\n",
       "      <th>...</th>\n",
       "      <td>...</td>\n",
       "      <td>...</td>\n",
       "      <td>...</td>\n",
       "    </tr>\n",
       "    <tr>\n",
       "      <th>445</th>\n",
       "      <td>3</td>\n",
       "      <td>9</td>\n",
       "      <td>1</td>\n",
       "    </tr>\n",
       "    <tr>\n",
       "      <th>446</th>\n",
       "      <td>6</td>\n",
       "      <td>6</td>\n",
       "      <td>1</td>\n",
       "    </tr>\n",
       "    <tr>\n",
       "      <th>447</th>\n",
       "      <td>2</td>\n",
       "      <td>2</td>\n",
       "      <td>1</td>\n",
       "    </tr>\n",
       "    <tr>\n",
       "      <th>448</th>\n",
       "      <td>6</td>\n",
       "      <td>6</td>\n",
       "      <td>1</td>\n",
       "    </tr>\n",
       "    <tr>\n",
       "      <th>449</th>\n",
       "      <td>5</td>\n",
       "      <td>5</td>\n",
       "      <td>1</td>\n",
       "    </tr>\n",
       "  </tbody>\n",
       "</table>\n",
       "<p>450 rows × 3 columns</p>\n",
       "</div>"
      ],
      "text/plain": [
       "     Y_test  nb_clf_preds  nb_clf_scaled_preds\n",
       "0         6             6                    1\n",
       "1         9             9                    1\n",
       "2         3             3                    1\n",
       "3         7             7                    3\n",
       "4         2             2                    1\n",
       "..      ...           ...                  ...\n",
       "445       3             9                    1\n",
       "446       6             6                    1\n",
       "447       2             2                    1\n",
       "448       6             6                    1\n",
       "449       5             5                    1\n",
       "\n",
       "[450 rows x 3 columns]"
      ]
     },
     "execution_count": 15,
     "metadata": {},
     "output_type": "execute_result"
    }
   ],
   "source": [
    "pd.DataFrame({'Y_test': y_test, 'nb_clf_preds': nb_clf_preds, 'nb_clf_scaled_preds': nb_clf_scaled_preds})"
   ]
  },
  {
   "cell_type": "code",
   "execution_count": 16,
   "id": "50cfa337-5a07-4ef5-94e8-941dc8ab8809",
   "metadata": {},
   "outputs": [],
   "source": [
    "iris = datasets.load_iris()\n",
    "\n",
    "X = iris.data\n",
    "y = iris.target"
   ]
  },
  {
   "cell_type": "code",
   "execution_count": 17,
   "id": "5864438b-e7d3-4e8d-8cc6-7d5d16ff36a4",
   "metadata": {},
   "outputs": [],
   "source": [
    "X_train, X_test, y_train, y_test = train_test_split(X, y)"
   ]
  },
  {
   "cell_type": "code",
   "execution_count": 18,
   "id": "012c4faf-6376-4b94-90d8-15abbc9d64c4",
   "metadata": {},
   "outputs": [
    {
     "name": "stdout",
     "output_type": "stream",
     "text": [
      "Training set accuracy : 0.955\n",
      "Test set accuracu     : 0.974\n"
     ]
    }
   ],
   "source": [
    "nbclf = GaussianNB().fit(X_train, y_train)\n",
    "\n",
    "print(\"Training set accuracy : {:.3f}\".format(nbclf.score(X_train, y_train)))\n",
    "print(\"Test set accuracu     : {:.3f}\".format(nbclf.score(X_test, y_test)))"
   ]
  },
  {
   "cell_type": "code",
   "execution_count": 25,
   "id": "2394afef-767c-40ed-a7ce-39dc667bfab9",
   "metadata": {},
   "outputs": [
    {
     "name": "stdout",
     "output_type": "stream",
     "text": [
      "Accuracy scores max_depth = 1\n",
      "Training set accuracy : 0.927\n",
      "Test set accuracu     : 0.909\n",
      "\n",
      "\n",
      "Accuracy scores max_depth = 2\n",
      "Training set accuracy : 0.953\n",
      "Test set accuracu     : 0.923\n",
      "\n",
      "\n",
      "Accuracy scores max_depth = 3\n",
      "Training set accuracy : 0.972\n",
      "Test set accuracu     : 0.930\n",
      "\n",
      "\n",
      "Accuracy scores max_depth = 4\n",
      "Training set accuracy : 0.986\n",
      "Test set accuracu     : 0.944\n",
      "\n",
      "\n",
      "Accuracy scores max_depth = 5\n",
      "Training set accuracy : 0.991\n",
      "Test set accuracu     : 0.944\n",
      "\n",
      "\n",
      "Accuracy scores max_depth = 6\n",
      "Training set accuracy : 0.998\n",
      "Test set accuracu     : 0.937\n",
      "\n",
      "\n",
      "Accuracy scores max_depth = 7\n",
      "Training set accuracy : 1.000\n",
      "Test set accuracu     : 0.916\n",
      "\n",
      "\n",
      "Accuracy scores max_depth = 8\n",
      "Training set accuracy : 1.000\n",
      "Test set accuracu     : 0.930\n",
      "\n",
      "\n",
      "Accuracy scores max_depth = 9\n",
      "Training set accuracy : 1.000\n",
      "Test set accuracu     : 0.930\n",
      "\n",
      "\n",
      "Accuracy scores max_depth = 10\n",
      "Training set accuracy : 1.000\n",
      "Test set accuracu     : 0.916\n",
      "\n",
      "\n",
      "Accuracy scores max_depth = 11\n",
      "Training set accuracy : 1.000\n",
      "Test set accuracu     : 0.916\n",
      "\n",
      "\n",
      "Accuracy scores max_depth = 12\n",
      "Training set accuracy : 1.000\n",
      "Test set accuracu     : 0.930\n",
      "\n",
      "\n",
      "Accuracy scores max_depth = 13\n",
      "Training set accuracy : 1.000\n",
      "Test set accuracu     : 0.909\n",
      "\n",
      "\n",
      "Accuracy scores max_depth = 14\n",
      "Training set accuracy : 1.000\n",
      "Test set accuracu     : 0.916\n",
      "\n",
      "\n",
      "Accuracy scores max_depth = 15\n",
      "Training set accuracy : 1.000\n",
      "Test set accuracu     : 0.916\n",
      "\n",
      "\n",
      "Accuracy scores max_depth = 16\n",
      "Training set accuracy : 1.000\n",
      "Test set accuracu     : 0.916\n",
      "\n",
      "\n",
      "Accuracy scores max_depth = 17\n",
      "Training set accuracy : 1.000\n",
      "Test set accuracu     : 0.930\n",
      "\n",
      "\n",
      "Accuracy scores max_depth = 18\n",
      "Training set accuracy : 1.000\n",
      "Test set accuracu     : 0.923\n",
      "\n",
      "\n",
      "Accuracy scores max_depth = 19\n",
      "Training set accuracy : 1.000\n",
      "Test set accuracu     : 0.909\n",
      "\n",
      "\n",
      "Accuracy scores max_depth = 20\n",
      "Training set accuracy : 1.000\n",
      "Test set accuracu     : 0.923\n",
      "\n",
      "\n",
      "Accuracy scores max_depth = 21\n",
      "Training set accuracy : 1.000\n",
      "Test set accuracu     : 0.916\n",
      "\n",
      "\n",
      "Accuracy scores max_depth = 22\n",
      "Training set accuracy : 1.000\n",
      "Test set accuracu     : 0.916\n",
      "\n",
      "\n",
      "Accuracy scores max_depth = 23\n",
      "Training set accuracy : 1.000\n",
      "Test set accuracu     : 0.916\n",
      "\n",
      "\n",
      "Accuracy scores max_depth = 24\n",
      "Training set accuracy : 1.000\n",
      "Test set accuracu     : 0.930\n",
      "\n",
      "\n",
      "Accuracy scores max_depth = 25\n",
      "Training set accuracy : 1.000\n",
      "Test set accuracu     : 0.909\n",
      "\n",
      "\n"
     ]
    }
   ],
   "source": [
    "from sklearn.tree import DecisionTreeClassifier\n",
    "\n",
    "depths = range(1, 26)\n",
    "scores = []\n",
    "\n",
    "for d in depths:\n",
    "    dt_clf = DecisionTreeClassifier(max_depth = d)\n",
    "    dt_clf.fit(X_train, y_train)\n",
    "    print(\"Accuracy scores max_depth = {}\".format(d))\n",
    "    print(\"Training set accuracy : {:.3f}\".format(dt_clf.score(X_train, y_train)))\n",
    "    print(\"Test set accuracu     : {:.3f}\".format(dt_clf.score(X_test, y_test)))\n",
    "    print(\"\\n\")"
   ]
  },
  {
   "cell_type": "code",
   "execution_count": 20,
   "id": "d64a710b-4e93-4152-832e-7bb577339a9c",
   "metadata": {},
   "outputs": [],
   "source": [
    "cancer = datasets.load_breast_cancer()\n",
    "\n",
    "X = cancer.data\n",
    "y = cancer.target"
   ]
  },
  {
   "cell_type": "code",
   "execution_count": 21,
   "id": "9131edae-f85a-4f2d-ba67-62e3d2748c92",
   "metadata": {},
   "outputs": [],
   "source": [
    "X_train, X_test, y_train, y_test = train_test_split(X, y)"
   ]
  },
  {
   "cell_type": "code",
   "execution_count": 22,
   "id": "0011af54-0e9e-4a4f-a11f-096995dfd424",
   "metadata": {},
   "outputs": [
    {
     "name": "stdout",
     "output_type": "stream",
     "text": [
      "Training set accuracy : 0.930\n",
      "Test set accuracu     : 0.965\n"
     ]
    }
   ],
   "source": [
    "nb = GaussianNB().fit(X_train, y_train)\n",
    "\n",
    "print(\"Training set accuracy : {:.3f}\".format(nb.score(X_train, y_train)))\n",
    "print(\"Test set accuracu     : {:.3f}\".format(nb.score(X_test, y_test)))"
   ]
  },
  {
   "cell_type": "code",
   "execution_count": 24,
   "id": "d04eb561-1a6f-46d0-bf6f-3b4bbe17fe23",
   "metadata": {},
   "outputs": [
    {
     "data": {
      "text/plain": [
       "<sklearn.metrics._plot.confusion_matrix.ConfusionMatrixDisplay at 0x7f88565abd90>"
      ]
     },
     "execution_count": 24,
     "metadata": {},
     "output_type": "execute_result"
    },
    {
     "data": {
      "image/png": "[encoded data removed]",
      "text/plain": [
       "<Figure size 432x288 with 2 Axes>"
      ]
     },
     "metadata": {
      "needs_background": "light"
     },
     "output_type": "display_data"
    }
   ],
   "source": [
    "from sklearn.metrics import plot_confusion_matrix\n",
    "\n",
    "plot_confusion_matrix(nb, X_test, y_test)"
   ]
  },
  {
   "cell_type": "code",
   "execution_count": null,
   "id": "77a6750a-2aad-4e46-941b-ae374ae2bd1d",
   "metadata": {},
   "outputs": [],
   "source": []
  }
 ],
 "metadata": {
  "kernelspec": {
   "display_name": "Python 3",
   "language": "python",
   "name": "python3"
  },
  "language_info": {
   "codemirror_mode": {
    "name": "ipython",
    "version": 3
   },
   "file_extension": ".py",
   "mimetype": "text/x-python",
   "name": "python",
   "nbconvert_exporter": "python",
   "pygments_lexer": "ipython3",
   "version": "3.8.8"
  }
 },
 "nbformat": 4,
 "nbformat_minor": 5
}
